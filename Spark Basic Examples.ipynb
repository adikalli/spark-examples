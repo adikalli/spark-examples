{
 "cells": [
  {
   "cell_type": "code",
   "execution_count": 25,
   "id": "8b0b7112",
   "metadata": {},
   "outputs": [],
   "source": [
    "import findspark\n",
    "findspark.init()"
   ]
  },
  {
   "cell_type": "code",
   "execution_count": 26,
   "id": "a64aea3a",
   "metadata": {},
   "outputs": [
    {
     "ename": "AttributeError",
     "evalue": "'Builder' object has no attribute 'app'",
     "output_type": "error",
     "traceback": [
      "\u001b[0;31m---------------------------------------------------------------------------\u001b[0m",
      "\u001b[0;31mAttributeError\u001b[0m                            Traceback (most recent call last)",
      "Input \u001b[0;32mIn [26]\u001b[0m, in \u001b[0;36m<cell line: 3>\u001b[0;34m()\u001b[0m\n\u001b[1;32m      1\u001b[0m \u001b[38;5;28;01mimport\u001b[39;00m \u001b[38;5;21;01mpyspark\u001b[39;00m \u001b[38;5;66;03m# only run after findspark.init()\u001b[39;00m\n\u001b[1;32m      2\u001b[0m \u001b[38;5;28;01mfrom\u001b[39;00m \u001b[38;5;21;01mpyspark\u001b[39;00m\u001b[38;5;21;01m.\u001b[39;00m\u001b[38;5;21;01msql\u001b[39;00m \u001b[38;5;28;01mimport\u001b[39;00m SparkSession\n\u001b[0;32m----> 3\u001b[0m spark \u001b[38;5;241m=\u001b[39m \u001b[43mSparkSession\u001b[49m\u001b[38;5;241;43m.\u001b[39;49m\u001b[43mbuilder\u001b[49m\u001b[38;5;241;43m.\u001b[39;49m\u001b[43mapp\u001b[49m\u001b[38;5;241m.\u001b[39mgetOrCreate()\n\u001b[1;32m      4\u001b[0m spark\n",
      "\u001b[0;31mAttributeError\u001b[0m: 'Builder' object has no attribute 'app'"
     ]
    }
   ],
   "source": [
    "import pyspark # only run after findspark.init()\n",
    "from pyspark.sql import SparkSession\n",
    "spark = SparkSession.builder.app.getOrCreate()\n",
    "spark"
   ]
  },
  {
   "cell_type": "markdown",
   "id": "eafd8304",
   "metadata": {},
   "source": [
    "**Load Data**<br>\n",
    "Download the Kaggle dataset: [Popular Movies Datasets](https://www.kaggle.com/datasets/whenamancodes/popular-movies-datasets-9000-movies)"
   ]
  },
  {
   "cell_type": "code",
   "execution_count": null,
   "id": "fe7071c1",
   "metadata": {},
   "outputs": [],
   "source": [
    "movies= spark.read.csv('../Popular Movies Datasets/movies.csv',header=True)\n",
    "links= spark.read.csv('../Popular Movies Datasets/links.csv',sep=',',header=True)\n",
    "\n"
   ]
  },
  {
   "cell_type": "code",
   "execution_count": null,
   "id": "b252fb47",
   "metadata": {},
   "outputs": [],
   "source": [
    "tags=spark.read.format('csv').option('delimiter',',').option('header','true')\\\n",
    "                .load('../Popular Movies Datasets/tags.csv')\n",
    "\n",
    "ratings=spark.read.load('../Popular Movies Datasets/ratings.csv',format='csv',header='true')"
   ]
  },
  {
   "cell_type": "markdown",
   "id": "03525023",
   "metadata": {},
   "source": [
    "**Inspect Data**"
   ]
  },
  {
   "cell_type": "code",
   "execution_count": null,
   "id": "59ba27bf",
   "metadata": {},
   "outputs": [],
   "source": [
    "\n",
    "\n",
    "# Displays the content of dataframe\n",
    "# movies.show(truncate=False)\n",
    "\n",
    "# Return first n rows\n",
    "# movies.head(1)\n",
    "\n",
    "# Return first n rows\n",
    "# ratings.take(2)\n",
    "\n",
    "# Returns first row\n",
    "# tags.first()\n",
    "\n",
    "# Computes summary statistics\n",
    "# links.describe().show()\n",
    "\n",
    "# Returns columns of dataframe\n",
    "# links.columns\n",
    "\n",
    "# Counts the number of rows in dataframe\n",
    "# movies.count()\n",
    "\n",
    "# Counts the number of distinct rows in dataframe\n",
    "# movies.distinct().count()\n",
    "\n"
   ]
  },
  {
   "cell_type": "code",
   "execution_count": null,
   "id": "ed4dfe0e",
   "metadata": {},
   "outputs": [],
   "source": [
    "tags.columns"
   ]
  },
  {
   "cell_type": "markdown",
   "id": "1491e368",
   "metadata": {},
   "source": [
    "**Commonly Used Functions** <br>\n",
    "1.  Remove Duplicate Values"
   ]
  },
  {
   "cell_type": "code",
   "execution_count": null,
   "id": "92a182fa",
   "metadata": {},
   "outputs": [],
   "source": [
    "tags.count()\n",
    "tags_dedup = tags.dropDuplicates(['userId', 'movieId']) \n",
    "tags_dedup.count()\n"
   ]
  },
  {
   "cell_type": "markdown",
   "id": "412df678",
   "metadata": {},
   "source": [
    "2. select and selectExpr "
   ]
  },
  {
   "cell_type": "code",
   "execution_count": null,
   "id": "b87c8b34",
   "metadata": {},
   "outputs": [],
   "source": [
    "movies.select('movieId',movies.title).show(2)\n",
    "movies.selectExpr('movieId','upper(title) as somecolname').show(2)"
   ]
  },
  {
   "cell_type": "markdown",
   "id": "5b5206d5",
   "metadata": {},
   "source": [
    "3. **withColumn and withColumnRenamed** : Adds a column and Renames a column respectively"
   ]
  },
  {
   "cell_type": "code",
   "execution_count": null,
   "id": "c3cb1e3d",
   "metadata": {},
   "outputs": [],
   "source": [
    "from pyspark.sql.functions import col,split\n",
    "\n",
    "movies_1=movies.withColumn('newtitle',split(col('title'),r'\\(')[0])\n",
    "# movies_1.show()\n",
    "movies_1=movies_1.withColumnRenamed('newtitle','movie_name')\n",
    "movies_1.show()\n",
    "\n"
   ]
  },
  {
   "cell_type": "markdown",
   "id": "effa1dd0",
   "metadata": {},
   "source": [
    "4.  If Else statements"
   ]
  },
  {
   "cell_type": "code",
   "execution_count": null,
   "id": "18532a21",
   "metadata": {},
   "outputs": [],
   "source": [
    "from pyspark.sql.functions import when\n",
    "ratings_1=ratings.select(\"rating\", when(ratings.rating == 5, True).otherwise(False))\n",
    "# ratings_1.show(2)\n",
    "ratings_1=ratings_1.withColumnRenamed('CASE WHEN (rating = 5) THEN true ELSE false END','five_ratings')\n",
    "ratings_1.show(2)\n",
    "\n",
    "ratings.withColumn('five_ratings',when(ratings.rating == 5, True).otherwise(False)).show(2)\n"
   ]
  },
  {
   "cell_type": "markdown",
   "id": "9b0d5b26",
   "metadata": {},
   "source": [
    "**Droping Columns**"
   ]
  },
  {
   "cell_type": "code",
   "execution_count": null,
   "id": "bcc90294",
   "metadata": {},
   "outputs": [],
   "source": [
    "ratings.drop('userId','timestamp').show(2)\n",
    "ratings.drop('userId').drop(col('timestamp')).drop(ratings.movieId).show(2)\n"
   ]
  },
  {
   "cell_type": "markdown",
   "id": "5fac0325",
   "metadata": {},
   "source": [
    "**Filtering Rows**"
   ]
  },
  {
   "cell_type": "code",
   "execution_count": null,
   "id": "461c5a62",
   "metadata": {},
   "outputs": [],
   "source": [
    "ratings.filter(col('rating')>=4).show(10)"
   ]
  },
  {
   "cell_type": "markdown",
   "id": "734c6b22",
   "metadata": {},
   "source": [
    "**Repartitioning**"
   ]
  },
  {
   "cell_type": "code",
   "execution_count": null,
   "id": "13f03f17",
   "metadata": {},
   "outputs": [],
   "source": [
    "movies1=movies.repartition(200)\n",
    "print(movies1.rdd.getNumPartitions())\n",
    "\n",
    "movies2=movies1.coalesce(3)\n",
    "print(movies2.rdd.getNumPartitions())"
   ]
  },
  {
   "cell_type": "markdown",
   "id": "0435278a",
   "metadata": {},
   "source": [
    "**Spark SQL**"
   ]
  },
  {
   "cell_type": "code",
   "execution_count": null,
   "id": "bf22a10d",
   "metadata": {},
   "outputs": [],
   "source": [
    "tags.createOrReplaceTempView('tags')\n",
    "df_tags=spark.sql('select * from tags')\n",
    "df_tags.show(2)\n",
    "\n",
    "spark.sql(\"\"\"select userId,count(*) as counts\n",
    "                from tags \n",
    "            group by userId order by counts desc\"\"\").show(5)\n"
   ]
  },
  {
   "cell_type": "markdown",
   "id": "b3b591b6",
   "metadata": {},
   "source": [
    "**String Operations**"
   ]
  },
  {
   "cell_type": "code",
   "execution_count": null,
   "id": "60454fc6",
   "metadata": {},
   "outputs": [],
   "source": [
    "movies.filter(col('title').isin(['Toy Story (1995)','Money Train (1995)' ])).show()\n",
    "movies.filter(col('genres').like('%Comedy%')).show(3)\n",
    "movies.filter(col('title').startswith('The')).show(3)\n",
    "movies.filter(col('title').endswith(\"(1995)\")).show(3)"
   ]
  },
  {
   "cell_type": "markdown",
   "id": "f084a2dc",
   "metadata": {},
   "source": [
    "**Join Operation** <br>\n",
    "Find userId with highest number of rating submission."
   ]
  },
  {
   "cell_type": "code",
   "execution_count": null,
   "id": "a5d47b35",
   "metadata": {},
   "outputs": [],
   "source": [
    "from pyspark.sql.functions import col,desc\n",
    "movies.join(ratings,on='movieId',how='left').select('userId').groupBy('userId').count()\\\n",
    "            .orderBy((col('count').desc())).show()"
   ]
  },
  {
   "cell_type": "markdown",
   "id": "6abc81ed",
   "metadata": {},
   "source": [
    "**Write to Disk**"
   ]
  },
  {
   "cell_type": "code",
   "execution_count": null,
   "id": "f7042bee",
   "metadata": {},
   "outputs": [],
   "source": [
    "movies.write.csv('../output/movies',header=True,mode='overwrite')\n",
    "tags.write.save('../output/tags',format='csv',header=True,mode='overwrite',compression='gzip')\n",
    "links.write.format('csv').option('header','true').mode('overwrite').save('../output/links')"
   ]
  },
  {
   "cell_type": "code",
   "execution_count": null,
   "id": "b40e1af2",
   "metadata": {},
   "outputs": [],
   "source": []
  }
 ],
 "metadata": {
  "kernelspec": {
   "display_name": "Python 3 (ipykernel)",
   "language": "python",
   "name": "python3"
  },
  "language_info": {
   "codemirror_mode": {
    "name": "ipython",
    "version": 3
   },
   "file_extension": ".py",
   "mimetype": "text/x-python",
   "name": "python",
   "nbconvert_exporter": "python",
   "pygments_lexer": "ipython3",
   "version": "3.10.7"
  }
 },
 "nbformat": 4,
 "nbformat_minor": 5
}

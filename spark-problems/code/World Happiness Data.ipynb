{
 "cells": [
  {
   "cell_type": "code",
   "execution_count": 43,
   "id": "ceab90e5",
   "metadata": {},
   "outputs": [],
   "source": [
    "import findspark\n",
    "findspark.init()"
   ]
  },
  {
   "cell_type": "code",
   "execution_count": 44,
   "id": "e2d19243",
   "metadata": {},
   "outputs": [
    {
     "data": {
      "text/html": [
       "\n",
       "            <div>\n",
       "                <p><b>SparkSession - in-memory</b></p>\n",
       "                \n",
       "        <div>\n",
       "            <p><b>SparkContext</b></p>\n",
       "\n",
       "            <p><a href=\"http://localhost:4043\">Spark UI</a></p>\n",
       "\n",
       "            <dl>\n",
       "              <dt>Version</dt>\n",
       "                <dd><code>v3.2.0</code></dd>\n",
       "              <dt>Master</dt>\n",
       "                <dd><code>local[*]</code></dd>\n",
       "              <dt>AppName</dt>\n",
       "                <dd><code>World Happiness Data</code></dd>\n",
       "            </dl>\n",
       "        </div>\n",
       "        \n",
       "            </div>\n",
       "        "
      ],
      "text/plain": [
       "<pyspark.sql.session.SparkSession at 0x1128544f0>"
      ]
     },
     "execution_count": 44,
     "metadata": {},
     "output_type": "execute_result"
    }
   ],
   "source": [
    "from pyspark.sql import SparkSession\n",
    "spark = SparkSession.builder.appName('World Happiness Data').getOrCreate()\n",
    "spark"
   ]
  },
  {
   "cell_type": "code",
   "execution_count": 45,
   "id": "c89e8572",
   "metadata": {},
   "outputs": [
    {
     "name": "stdout",
     "output_type": "stream",
     "text": [
      "+------------+----+-----------+------------------+--------------+--------------------------------+----------------------------+----------+-------------------------+---------------+---------------+\n",
      "|Country name|year|Life Ladder|Log GDP per capita|Social support|Healthy life expectancy at birth|Freedom to make life choices|Generosity|Perceptions of corruption|Positive affect|Negative affect|\n",
      "+------------+----+-----------+------------------+--------------+--------------------------------+----------------------------+----------+-------------------------+---------------+---------------+\n",
      "| Afghanistan|2008|      3.724|             7.370|         0.451|                          50.800|                       0.718|     0.168|                    0.882|          0.518|          0.258|\n",
      "| Afghanistan|2009|      4.402|             7.540|         0.552|                          51.200|                       0.679|     0.190|                    0.850|          0.584|          0.237|\n",
      "| Afghanistan|2010|      4.758|             7.647|         0.539|                          51.600|                       0.600|     0.121|                    0.707|          0.618|          0.275|\n",
      "| Afghanistan|2011|      3.832|             7.620|         0.521|                          51.920|                       0.496|     0.162|                    0.731|          0.611|          0.267|\n",
      "| Afghanistan|2012|      3.783|             7.705|         0.521|                          52.240|                       0.531|     0.236|                    0.776|          0.710|          0.268|\n",
      "+------------+----+-----------+------------------+--------------+--------------------------------+----------------------------+----------+-------------------------+---------------+---------------+\n",
      "only showing top 5 rows\n",
      "\n"
     ]
    }
   ],
   "source": [
    "df=spark.read.csv('../World Happiness Report 2021/world-happiness-report.csv',header=True)\n",
    "# df.count()\n",
    "df.show(5)\n",
    "\n"
   ]
  },
  {
   "cell_type": "code",
   "execution_count": 46,
   "id": "55c01269",
   "metadata": {},
   "outputs": [
    {
     "name": "stdout",
     "output_type": "stream",
     "text": [
      "root\n",
      " |-- Country name: string (nullable = true)\n",
      " |-- year: string (nullable = true)\n",
      " |-- Life Ladder: string (nullable = true)\n",
      " |-- Log GDP per capita: string (nullable = true)\n",
      " |-- Social support: string (nullable = true)\n",
      " |-- Healthy life expectancy at birth: string (nullable = true)\n",
      " |-- Freedom to make life choices: string (nullable = true)\n",
      " |-- Generosity: string (nullable = true)\n",
      " |-- Perceptions of corruption: string (nullable = true)\n",
      " |-- Positive affect: string (nullable = true)\n",
      " |-- Negative affect: string (nullable = true)\n",
      "\n"
     ]
    }
   ],
   "source": [
    "df.printSchema()"
   ]
  },
  {
   "cell_type": "code",
   "execution_count": 47,
   "id": "15fee396",
   "metadata": {},
   "outputs": [
    {
     "name": "stdout",
     "output_type": "stream",
     "text": [
      "root\n",
      " |-- Country name: string (nullable = true)\n",
      " |-- year: long (nullable = true)\n",
      " |-- Life Ladder: double (nullable = true)\n",
      " |-- Log GDP per capita: double (nullable = true)\n",
      " |-- Social support: double (nullable = true)\n",
      " |-- Healthy life expectancy at birth: double (nullable = true)\n",
      " |-- Freedom to make life choices: double (nullable = true)\n",
      " |-- Generosity: double (nullable = true)\n",
      " |-- Perceptions of corruption: double (nullable = true)\n",
      " |-- Positive affect: double (nullable = true)\n",
      " |-- Negative affect: double (nullable = true)\n",
      "\n"
     ]
    }
   ],
   "source": [
    "#Need to convert all columns to double except for Year and Country\n",
    "from pyspark.sql.functions import col\n",
    "for i in df.columns :\n",
    "    if i not in ['year','Country name']:\n",
    "        df=df.withColumn(i, col(i).cast('Double'))\n",
    "        \n",
    "df=df.withColumn('year',col('year').cast('bigint'))   \n",
    "df.printSchema()"
   ]
  },
  {
   "cell_type": "markdown",
   "id": "26ae72c0",
   "metadata": {},
   "source": [
    "**Which Country has the highest and lowest Healthy life expectancy at birth over the year?**"
   ]
  },
  {
   "cell_type": "code",
   "execution_count": 48,
   "id": "42317ac6",
   "metadata": {
    "scrolled": true
   },
   "outputs": [
    {
     "name": "stdout",
     "output_type": "stream",
     "text": [
      "+------------+--------------------------------+\n",
      "|Country name|Healthy life expectancy at birth|\n",
      "+------------+--------------------------------+\n",
      "|Singapore   |77.1                            |\n",
      "|Haiti       |32.3                            |\n",
      "+------------+--------------------------------+\n",
      "\n"
     ]
    }
   ],
   "source": [
    "from pyspark.sql.functions import col\n",
    "max_le=df.agg({\"Healthy life expectancy at birth\":'max'}).collect()[0][0]\n",
    "min_le=df.agg({\"Healthy life expectancy at birth\":'min'}).collect()[0][0]\n",
    "df.filter(col(\"Healthy life expectancy at birth\").isin(max_le,min_le))\\\n",
    "    .select(\"Country name\",\"Healthy life expectancy at birth\").distinct()\\\n",
    "    .show(truncate=False)\n"
   ]
  },
  {
   "cell_type": "code",
   "execution_count": 49,
   "id": "bfd2ecb3",
   "metadata": {},
   "outputs": [
    {
     "name": "stdout",
     "output_type": "stream",
     "text": [
      "+------------+----+-----------+------------------+--------------+--------------------------------+----------------------------+----------+-------------------------+---------------+---------------+\n",
      "|Country name|year|Life Ladder|Log GDP per capita|Social support|Healthy life expectancy at birth|Freedom to make life choices|Generosity|Perceptions of corruption|Positive affect|Negative affect|\n",
      "+------------+----+-----------+------------------+--------------+--------------------------------+----------------------------+----------+-------------------------+---------------+---------------+\n",
      "|           0|   0|          0|                36|            13|                              55|                          32|        89|                      110|             22|             16|\n",
      "+------------+----+-----------+------------------+--------------+--------------------------------+----------------------------+----------+-------------------------+---------------+---------------+\n",
      "\n"
     ]
    }
   ],
   "source": [
    "#Check for nulls \n",
    "# Find count for empty, None, Null, Nan with string literals.\n",
    "from pyspark.sql.functions import col,isnan,when,count\n",
    "\n",
    "def check_nulls(dataframe,columns): \n",
    "    return dataframe.select([count(when(col(c).contains('None') | \\\n",
    "                                col(c).contains('NULL') | \\\n",
    "                                (col(c) == '' ) | \\\n",
    "                                col(c).isNull() | \\\n",
    "                                isnan(c), c \n",
    "                               )).alias(c)\n",
    "                        for c in columns])\n",
    "\n",
    "\n",
    "null_check=check_nulls(df,df.columns)\n",
    "null_check.show()\n",
    "\n",
    "#Columns"
   ]
  },
  {
   "cell_type": "code",
   "execution_count": 50,
   "id": "2768875a",
   "metadata": {},
   "outputs": [
    {
     "name": "stdout",
     "output_type": "stream",
     "text": [
      "+------------+----+-----------+------------------+--------------+--------------------------------+----------------------------+----------+-------------------------+---------------+---------------+\n",
      "|Country name|year|Life Ladder|Log GDP per capita|Social support|Healthy life expectancy at birth|Freedom to make life choices|Generosity|Perceptions of corruption|Positive affect|Negative affect|\n",
      "+------------+----+-----------+------------------+--------------+--------------------------------+----------------------------+----------+-------------------------+---------------+---------------+\n",
      "|           0|   0|          0|                 0|             0|                               0|                           0|         0|                        0|              0|              0|\n",
      "+------------+----+-----------+------------------+--------------+--------------------------------+----------------------------+----------+-------------------------+---------------+---------------+\n",
      "\n"
     ]
    }
   ],
   "source": [
    "# fill nulls  with 0\n",
    "df=df.na.fill(value=0,subset=[c for c in df.columns if c not in ['Country name','year']])\n",
    "null_check=check_nulls(df,df.columns)\n",
    "null_check.show()"
   ]
  },
  {
   "cell_type": "markdown",
   "id": "144a2dcc",
   "metadata": {},
   "source": [
    "**Find a highly corrupted Country By Year (order from high to low)**"
   ]
  },
  {
   "cell_type": "code",
   "execution_count": 51,
   "id": "a67f08f5",
   "metadata": {},
   "outputs": [
    {
     "name": "stdout",
     "output_type": "stream",
     "text": [
      "+----------------------+----+-------------------------+\n",
      "|Country name          |year|Perceptions of corruption|\n",
      "+----------------------+----+-------------------------+\n",
      "|Poland                |2005|0.983                    |\n",
      "|Hungary               |2010|0.983                    |\n",
      "|Lithuania             |2009|0.979                    |\n",
      "|Serbia                |2011|0.977                    |\n",
      "|Croatia               |2011|0.977                    |\n",
      "|Bosnia and Herzegovina|2014|0.976                    |\n",
      "|Bulgaria              |2007|0.976                    |\n",
      "|Indonesia             |2013|0.973                    |\n",
      "|Moldova               |2016|0.969                    |\n",
      "|Indonesia             |2008|0.968                    |\n",
      "|Lithuania             |2006|0.967                    |\n",
      "|Bosnia and Herzegovina|2019|0.963                    |\n",
      "|Indonesia             |2012|0.962                    |\n",
      "|Romania               |2015|0.962                    |\n",
      "|Croatia               |2020|0.961                    |\n",
      "|Afghanistan           |2017|0.954                    |\n",
      "|Bulgaria              |2018|0.952                    |\n",
      "+----------------------+----+-------------------------+\n",
      "\n"
     ]
    }
   ],
   "source": [
    "from pyspark.sql.window import Window\n",
    "from pyspark.sql.functions import rank,desc\n",
    "w= Window().partitionBy(\"Year\").orderBy(col(\"Perceptions of corruption\").desc())\n",
    "df.withColumn('rn',rank().over(w)).filter(col('rn')==1)\\\n",
    "        .select('Country name','year',\"Perceptions of corruption\").orderBy(desc('Perceptions of corruption')).show(truncate=False)\n",
    "\n"
   ]
  },
  {
   "cell_type": "markdown",
   "id": "c1dc6b29",
   "metadata": {},
   "source": [
    "**Which Country had a Positive and Negative effect in the Great Depression (2008)?**"
   ]
  },
  {
   "cell_type": "code",
   "execution_count": 52,
   "id": "df43fba8",
   "metadata": {},
   "outputs": [
    {
     "name": "stdout",
     "output_type": "stream",
     "text": [
      "+-------+------------------+-------------------+\n",
      "|summary|   Positive affect|    Negative affect|\n",
      "+-------+------------------+-------------------+\n",
      "|  count|               110|                110|\n",
      "|   mean|0.6933999999999999| 0.2435454545454546|\n",
      "| stddev| 0.145500855951327|0.07080566975219957|\n",
      "|    min|               0.0|               0.12|\n",
      "|    max|              0.89|              0.448|\n",
      "+-------+------------------+-------------------+\n",
      "\n"
     ]
    }
   ],
   "source": [
    "df.select('Positive affect','Negative affect').filter('year==2008').describe().show()"
   ]
  },
  {
   "cell_type": "code",
   "execution_count": 53,
   "id": "505feb67",
   "metadata": {},
   "outputs": [
    {
     "name": "stdout",
     "output_type": "stream",
     "text": [
      "+------------+----+---------------+---------------+\n",
      "|Country name|year|Positive affect|Negative affect|\n",
      "+------------+----+---------------+---------------+\n",
      "|      Canada|2008|           0.89|          0.202|\n",
      "|    Djibouti|2008|          0.755|           0.12|\n",
      "+------------+----+---------------+---------------+\n",
      "\n"
     ]
    }
   ],
   "source": [
    "df.filter(((col('year')==2008) & (col('Positive affect')==0.89) | (col('Negative affect')==0.12)))\\\n",
    "        .select('Country name','year','Positive affect','Negative affect').show()"
   ]
  },
  {
   "cell_type": "markdown",
   "id": "d0272e0b",
   "metadata": {},
   "source": [
    "**Find the country whose GDP remained almost constant .**"
   ]
  },
  {
   "cell_type": "code",
   "execution_count": 54,
   "id": "ef33d19e",
   "metadata": {},
   "outputs": [
    {
     "name": "stdout",
     "output_type": "stream",
     "text": [
      "+-----------------+--------------------+\n",
      "|     Country name|            avg_diff|\n",
      "+-----------------+--------------------+\n",
      "|             Cuba|                 0.0|\n",
      "|          Somalia|                 0.0|\n",
      "|           Guyana|                 0.0|\n",
      "|Somaliland region|                 0.0|\n",
      "|      South Sudan|                 0.0|\n",
      "|     North Cyprus|                 0.0|\n",
      "|         Suriname|                 0.0|\n",
      "|             Oman|                 0.0|\n",
      "|         Maldives|                 0.0|\n",
      "|           Belize|0.004500000000000...|\n",
      "|           Norway|0.011100000000000065|\n",
      "|            Gabon|0.015950617283950308|\n",
      "|          Austria| 0.01862721893491121|\n",
      "|          Jamaica| 0.02066666666666676|\n",
      "|           Gambia| 0.02133333333333365|\n",
      "|           Angola|0.021999999999999353|\n",
      "|          Finland|0.022071005917159672|\n",
      "|           France|0.022488888888889016|\n",
      "|       Mauritania|  0.0228165680473371|\n",
      "|          Algeria|0.022906249999999462|\n",
      "+-----------------+--------------------+\n",
      "only showing top 20 rows\n",
      "\n"
     ]
    }
   ],
   "source": [
    "from pyspark.sql.functions import mean,abs,avg\n",
    "\n",
    "\n",
    "w= Window().partitionBy(\"Country name\")\n",
    "df1=df.withColumn('mean',mean('Log GDP per capita').over(w))\\\n",
    "    .select('Country name','year','Log GDP per capita','mean',abs(col('mean')-col('Log GDP per capita')).alias('abs_diff'))\n",
    "\n",
    "# df1.show()\n",
    "\n",
    "df2=df1.withColumn('avg_diff',avg(col('abs_diff')).over(w))\\\n",
    "        .select('Country name','avg_diff').distinct().orderBy('avg_diff')\\\n",
    "        .show()\n",
    "\n"
   ]
  },
  {
   "cell_type": "code",
   "execution_count": 55,
   "id": "1caca194",
   "metadata": {},
   "outputs": [
    {
     "name": "stdout",
     "output_type": "stream",
     "text": [
      "+------------+----+------------------+\n",
      "|Country name|year|Log GDP per capita|\n",
      "+------------+----+------------------+\n",
      "|        Cuba|2006|               0.0|\n",
      "+------------+----+------------------+\n",
      "\n"
     ]
    }
   ],
   "source": [
    "df.select('Country name','year','Log GDP per capita').filter(col(\"Country name\")==\"Cuba\").show()\n",
    "#Cuba has only one data point(i.e year 2006 ). The more the data point more accurate would results be."
   ]
  },
  {
   "cell_type": "markdown",
   "id": "78af50e6",
   "metadata": {},
   "source": [
    "**Calculate Percentage change of Life Ladder w.r.t to previous year and find the year in which there was positive % change in Life Ladder by Country.**"
   ]
  },
  {
   "cell_type": "code",
   "execution_count": 56,
   "id": "8b889399",
   "metadata": {},
   "outputs": [
    {
     "name": "stdout",
     "output_type": "stream",
     "text": [
      "+--------------------+----+-----------+-----------------------------+\n",
      "|        Country name|year|Life Ladder|Perctage Change in LifeLadder|\n",
      "+--------------------+----+-----------+-----------------------------+\n",
      "|         Afghanistan|2015|      3.983|                        21.39|\n",
      "|             Albania|2009|      5.485|                        15.52|\n",
      "|             Algeria|2014|      6.355|                         11.8|\n",
      "|              Angola|2011|      5.589|                          0.0|\n",
      "|           Argentina|2009|      6.424|                         7.21|\n",
      "|             Armenia|2018|      5.062|                        15.29|\n",
      "|           Australia|2010|       7.45|                         2.63|\n",
      "|             Austria|2017|      7.294|                         3.37|\n",
      "|          Azerbaijan|2013|      5.481|                         10.4|\n",
      "|             Bahrain|2013|       6.69|                        24.86|\n",
      "|          Bangladesh|2019|      5.114|                        12.03|\n",
      "|             Belarus|2019|      5.821|                        10.08|\n",
      "|             Belgium|2011|      7.111|                         3.61|\n",
      "|              Belize|2007|      6.451|                          0.0|\n",
      "|               Benin|2017|      4.853|                        17.43|\n",
      "|              Bhutan|2015|      5.082|                         2.81|\n",
      "|             Bolivia|2009|      6.086|                        12.95|\n",
      "|Bosnia and Herzeg...|2018|      5.887|                        13.54|\n",
      "|            Botswana|2012|      4.836|                        27.21|\n",
      "|              Brazil|2013|       7.14|                         6.72|\n",
      "+--------------------+----+-----------+-----------------------------+\n",
      "only showing top 20 rows\n",
      "\n"
     ]
    }
   ],
   "source": [
    "from pyspark.sql.functions import lag,isnull,round\n",
    "w = Window.partitionBy('Country name').orderBy(\"year\")\n",
    "\n",
    "df1=df.withColumn(\"prev_value\", lag(col('Life Ladder')).over(w))\\\n",
    "    .withColumn(\"diff\", when(isnull(col('Life Ladder') - col('prev_value')), 0)\n",
    "                              .otherwise(col('Life Ladder') - col('prev_value')))\\\n",
    "    .withColumn('Perctage Change in LifeLadder',round((col('diff')/col('Life Ladder'))*100,2 ))\\\n",
    "    .select('Country name','year','Life Ladder','diff','Perctage Change in LifeLadder')\n",
    "# df1.show()\n",
    "\n",
    "w = Window.partitionBy('Country name').orderBy(desc(\"Perctage Change in LifeLadder\"))\n",
    "df1.withColumn('rn',rank().over(w)).filter('rn==1').drop('rn','diff').show()\n",
    "\n",
    "#Life Ladder improved most in below years"
   ]
  },
  {
   "cell_type": "code",
   "execution_count": null,
   "id": "bd88e415",
   "metadata": {},
   "outputs": [],
   "source": []
  }
 ],
 "metadata": {
  "kernelspec": {
   "display_name": "Python 3 (ipykernel)",
   "language": "python",
   "name": "python3"
  },
  "language_info": {
   "codemirror_mode": {
    "name": "ipython",
    "version": 3
   },
   "file_extension": ".py",
   "mimetype": "text/x-python",
   "name": "python",
   "nbconvert_exporter": "python",
   "pygments_lexer": "ipython3",
   "version": "3.10.7"
  }
 },
 "nbformat": 4,
 "nbformat_minor": 5
}

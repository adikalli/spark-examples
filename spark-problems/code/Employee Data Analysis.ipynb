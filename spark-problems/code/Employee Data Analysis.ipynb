{
 "cells": [
  {
   "cell_type": "code",
   "execution_count": 1,
   "id": "61345a91",
   "metadata": {},
   "outputs": [],
   "source": [
    "import findspark\n",
    "findspark.init()"
   ]
  },
  {
   "cell_type": "code",
   "execution_count": 2,
   "id": "94cff5f2",
   "metadata": {},
   "outputs": [
    {
     "name": "stderr",
     "output_type": "stream",
     "text": [
      "Using Spark's default log4j profile: org/apache/spark/log4j-defaults.properties\n",
      "Setting default log level to \"WARN\".\n",
      "To adjust logging level use sc.setLogLevel(newLevel). For SparkR, use setLogLevel(newLevel).\n",
      "22/11/10 14:37:11 WARN NativeCodeLoader: Unable to load native-hadoop library for your platform... using builtin-java classes where applicable\n",
      "22/11/10 14:37:17 WARN Utils: Service 'SparkUI' could not bind on port 4040. Attempting port 4041.\n",
      "22/11/10 14:37:17 WARN Utils: Service 'SparkUI' could not bind on port 4041. Attempting port 4042.\n"
     ]
    },
    {
     "data": {
      "text/html": [
       "\n",
       "            <div>\n",
       "                <p><b>SparkSession - in-memory</b></p>\n",
       "                \n",
       "        <div>\n",
       "            <p><b>SparkContext</b></p>\n",
       "\n",
       "            <p><a href=\"http://localhost:4042\">Spark UI</a></p>\n",
       "\n",
       "            <dl>\n",
       "              <dt>Version</dt>\n",
       "                <dd><code>v3.2.0</code></dd>\n",
       "              <dt>Master</dt>\n",
       "                <dd><code>local[*]</code></dd>\n",
       "              <dt>AppName</dt>\n",
       "                <dd><code>pyspark-shell</code></dd>\n",
       "            </dl>\n",
       "        </div>\n",
       "        \n",
       "            </div>\n",
       "        "
      ],
      "text/plain": [
       "<pyspark.sql.session.SparkSession at 0x104c543a0>"
      ]
     },
     "execution_count": 2,
     "metadata": {},
     "output_type": "execute_result"
    }
   ],
   "source": [
    "from pyspark.sql import SparkSession\n",
    "spark = SparkSession.builder.getOrCreate()\n",
    "spark"
   ]
  },
  {
   "cell_type": "markdown",
   "id": "ac988a80",
   "metadata": {},
   "source": [
    "**Employee Data Analysis** [Link to Dataset](https://www.kaggle.com/datasets/madhurpant/data-science-jobs-in-india)\n",
    "\n",
    "\n"
   ]
  },
  {
   "cell_type": "code",
   "execution_count": 3,
   "id": "b604afe6",
   "metadata": {},
   "outputs": [
    {
     "name": "stderr",
     "output_type": "stream",
     "text": [
      "                                                                                \r"
     ]
    },
    {
     "name": "stdout",
     "output_type": "stream",
     "text": [
      "+---+-----------------+--------------+--------------+----------+----------+----------+---------------+\n",
      "|_c0|     company_name|     job_title|min_experience|avg_salary|min_salary|max_salary|num_of_salaries|\n",
      "+---+-----------------+--------------+--------------+----------+----------+----------+---------------+\n",
      "|  0|              TCS|Data Scientist|             2|      7.8L|      4.5L|     16.0L|            841|\n",
      "|  1|        Accenture|Data Scientist|             2|     12.8L|      5.8L|     23.0L|            501|\n",
      "|  2|              IBM|Data Scientist|             2|     13.4L|      5.3L|     25.0L|            394|\n",
      "|  3|        Cognizant|Data Scientist|             2|      9.8L|      5.0L|     18.0L|            318|\n",
      "|  4|        Capgemini|Data Scientist|             2|      8.6L|      4.8L|     14.6L|            300|\n",
      "|  5|          Infosys|Data Scientist|             2|      9.3L|      4.5L|     24.0L|            228|\n",
      "|  6|            Wipro|Data Scientist|             2|      9.7L|      4.5L|     18.2L|            225|\n",
      "|  7|    Tech Mahindra|Data Scientist|             2|      7.6L|      4.1L|     15.4L|            218|\n",
      "|  8|Fractal Analytics|Data Scientist|             2|     15.9L|     10.0L|     23.0L|            166|\n",
      "|  9|         Deloitte|Data Scientist|             2|     14.2L|      7.0L|     25.0L|            163|\n",
      "+---+-----------------+--------------+--------------+----------+----------+----------+---------------+\n",
      "only showing top 10 rows\n",
      "\n"
     ]
    },
    {
     "name": "stderr",
     "output_type": "stream",
     "text": [
      "22/11/10 14:37:25 WARN CSVHeaderChecker: CSV header does not conform to the schema.\n",
      " Header: , company_name, job_title, min_experience, avg_salary, min_salary, max_salary, num_of_salaries\n",
      " Schema: _c0, company_name, job_title, min_experience, avg_salary, min_salary, max_salary, num_of_salaries\n",
      "Expected: _c0 but found: \n",
      "CSV file: file:///Users/adityabhat/Documents/Projects/SparkDemo/Data_Science_Jobs_in_India.csv\n"
     ]
    }
   ],
   "source": [
    "df=spark.read.csv('../Data_Science_Jobs_in_India.csv',header=True)\n",
    "df.show(10)\n"
   ]
  },
  {
   "cell_type": "code",
   "execution_count": 4,
   "id": "ab0faa50",
   "metadata": {},
   "outputs": [
    {
     "name": "stdout",
     "output_type": "stream",
     "text": [
      "+----+\n",
      "|Unit|\n",
      "+----+\n",
      "|   L|\n",
      "+----+\n",
      "\n"
     ]
    }
   ],
   "source": [
    "#Find if salary is purely in Lakhs\n",
    "from pyspark.sql.functions import col,regexp_replace\n",
    "df.select('avg_salary')\\\n",
    "    .withColumn('Unit' ,regexp_replace(col('avg_salary'),'[0-9.]',''))\\\n",
    "    .filter(col('avg_salary').rlike('\\d'))\\\n",
    "    .select(\"Unit\").distinct().show()\n",
    "\n",
    "#So all the salary is in Lakhs"
   ]
  },
  {
   "cell_type": "code",
   "execution_count": 5,
   "id": "71e8e237",
   "metadata": {},
   "outputs": [
    {
     "name": "stdout",
     "output_type": "stream",
     "text": [
      "+------------+--------------+--------------+----------+----------+----------+---------------+\n",
      "|company_name|     job_title|min_experience|avg_salary|min_salary|max_salary|num_of_salaries|\n",
      "+------------+--------------+--------------+----------+----------+----------+---------------+\n",
      "|         TCS|Data Scientist|             2|       7.8|       4.5|      16.0|            841|\n",
      "|   Accenture|Data Scientist|             2|      12.8|       5.8|      23.0|            501|\n",
      "|         IBM|Data Scientist|             2|      13.4|       5.3|      25.0|            394|\n",
      "|   Cognizant|Data Scientist|             2|       9.8|       5.0|      18.0|            318|\n",
      "|   Capgemini|Data Scientist|             2|       8.6|       4.8|      14.6|            300|\n",
      "+------------+--------------+--------------+----------+----------+----------+---------------+\n",
      "only showing top 5 rows\n",
      "\n"
     ]
    }
   ],
   "source": [
    "salary_cols=['avg_salary','min_salary','max_salary']\n",
    "df=df.drop('_c0')\n",
    "for c in salary_cols:\n",
    "    df=df.withColumn(c,regexp_replace(col(c),'L','').cast('double'))\n",
    "\n",
    "df.show(5)\n",
    "\n",
    "# df.selectExpr(\"max(cast(replace(avg_salary,'L','') as double)) as MaxOfSalary\").show()"
   ]
  },
  {
   "cell_type": "markdown",
   "id": "f0ce85b5",
   "metadata": {},
   "source": [
    "**Find the highest paying job (regardless of experience)**\n"
   ]
  },
  {
   "cell_type": "code",
   "execution_count": 6,
   "id": "faac452e",
   "metadata": {},
   "outputs": [
    {
     "name": "stdout",
     "output_type": "stream",
     "text": [
      "+------------+---------------------+--------------+----------+----------+----------+---------------+\n",
      "|company_name|job_title            |min_experience|avg_salary|min_salary|max_salary|num_of_salaries|\n",
      "+------------+---------------------+--------------+----------+----------+----------+---------------+\n",
      "|Flipkart    |Senior Data Scientist|5             |82.0      |55.0      |100.0     |5              |\n",
      "+------------+---------------------+--------------+----------+----------+----------+---------------+\n",
      "\n"
     ]
    }
   ],
   "source": [
    "max_sal=df.selectExpr(\"max(avg_salary)\").collect()[0][0]\n",
    "df.filter(col('avg_salary')==max_sal).show(truncate=False)"
   ]
  },
  {
   "cell_type": "markdown",
   "id": "ca6ffc1f",
   "metadata": {},
   "source": [
    "**Calculate Avg Salary By Job titles.**\n"
   ]
  },
  {
   "cell_type": "code",
   "execution_count": 7,
   "id": "1324465f",
   "metadata": {},
   "outputs": [
    {
     "name": "stdout",
     "output_type": "stream",
     "text": [
      "+-------------------------+----------+\n",
      "|job_title                |avg_salary|\n",
      "+-------------------------+----------+\n",
      "|Machine Learning Engineer|9.85      |\n",
      "|Business Analyst         |8.95      |\n",
      "|Data Scientist           |13.53     |\n",
      "|Data Analyst             |5.71      |\n",
      "|Senior Business Analyst  |13.17     |\n",
      "|Senior Data Analyst      |9.57      |\n",
      "|Senior Data Scientist    |22.29     |\n",
      "|Data Architect           |25.09     |\n",
      "|Senior Data Engineer     |19.0      |\n",
      "|Data Engineer            |11.81     |\n",
      "+-------------------------+----------+\n",
      "\n"
     ]
    }
   ],
   "source": [
    "from pyspark.sql.functions import round\n",
    "df.groupBy('job_title').avg('avg_salary')\\\n",
    "        .select('job_title',round(col('avg(avg_salary)'),2).alias('avg_salary'))\\\n",
    "        .show(truncate=False)"
   ]
  },
  {
   "cell_type": "markdown",
   "id": "15f7dfb5",
   "metadata": {},
   "source": [
    "**Which Company pays highest for the least amount of experience ( group by Job Title order by salary).**"
   ]
  },
  {
   "cell_type": "code",
   "execution_count": 11,
   "id": "9213c2b9",
   "metadata": {},
   "outputs": [
    {
     "name": "stdout",
     "output_type": "stream",
     "text": [
      "+--------------------+--------------------+--------------+----------+\n",
      "|        company_name|           job_title|min_experience|avg_salary|\n",
      "+--------------------+--------------------+--------------+----------+\n",
      "|Shadowfax Technol...| Senior Data Analyst|             0|       7.7|\n",
      "|            Citibank|        Data Analyst|             0|      10.4|\n",
      "|              Fiserv|      Data Architect|             3|      11.2|\n",
      "|Wavicle Data Solu...|Senior Data Engineer|             0|      11.8|\n",
      "|           Unacademy|Senior Business A...|             0|      13.0|\n",
      "|       Goldman Sachs|    Business Analyst|             0|      14.9|\n",
      "|            Qualcomm|Machine Learning ...|             0|      19.4|\n",
      "|            Flipkart|      Data Scientist|             0|      23.2|\n",
      "|                HSBC|Senior Data Scien...|             0|      24.6|\n",
      "|            Autodesk|       Data Engineer|             0|      26.5|\n",
      "+--------------------+--------------------+--------------+----------+\n",
      "\n"
     ]
    }
   ],
   "source": [
    "from pyspark.sql.window import Window\n",
    "from pyspark.sql.functions import rank,desc\n",
    "w=Window().partitionBy('job_title').orderBy('min_experience',desc('avg_salary'))\n",
    "\n",
    "\n",
    "df.withColumn('min_experience',col('min_experience').cast('int'))\\\n",
    "        .withColumn('rn',rank().over(w)).filter('rn==1')\\\n",
    "        .select('company_name','job_title','min_experience','avg_salary').orderBy('avg_salary').show()\n"
   ]
  },
  {
   "cell_type": "code",
   "execution_count": 9,
   "id": "cb0239ba",
   "metadata": {},
   "outputs": [],
   "source": [
    "# min_exp=df.selectExpr(\"min(min_experience)\").collect()[0][0]\n",
    "# df_min_exp=df.filter(col('min_experience')==min_exp)\n",
    "    \n",
    "# df_max_by_title=df_min_exp.groupBy('job_title').max('avg_salary')\\\n",
    "#         .select(col('job_title').alias('designation'),col('max(avg_salary)').alias('max_of_avg_salary'))\n",
    "\n",
    "# df_max_by_title.show(truncate=False)"
   ]
  },
  {
   "cell_type": "code",
   "execution_count": 10,
   "id": "78f3790c",
   "metadata": {},
   "outputs": [],
   "source": [
    "# from pyspark.sql.functions import broadcast,desc\n",
    "\n",
    "# df.join(broadcast(df_max_by_title),on=( (df_max_by_title.designation==df.job_title) &\\\n",
    "#                     (df_max_by_title.max_of_avg_salary==df.avg_salary) ),how='right')\\\n",
    "#     .filter(col('min_experience')==min_exp)\\\n",
    "#     .select('job_title','company_name','min_experience','avg_salary')\\\n",
    "#     .orderBy(desc('avg_salary'))\\\n",
    "#     .show(truncate=False)\n",
    "\n",
    "\n"
   ]
  }
 ],
 "metadata": {
  "kernelspec": {
   "display_name": "Python 3 (ipykernel)",
   "language": "python",
   "name": "python3"
  },
  "language_info": {
   "codemirror_mode": {
    "name": "ipython",
    "version": 3
   },
   "file_extension": ".py",
   "mimetype": "text/x-python",
   "name": "python",
   "nbconvert_exporter": "python",
   "pygments_lexer": "ipython3",
   "version": "3.10.7"
  }
 },
 "nbformat": 4,
 "nbformat_minor": 5
}

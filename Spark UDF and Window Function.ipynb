{
 "cells": [
  {
   "cell_type": "code",
   "execution_count": 1,
   "id": "97d64826",
   "metadata": {},
   "outputs": [],
   "source": [
    "import findspark\n",
    "findspark.init()"
   ]
  },
  {
   "cell_type": "code",
   "execution_count": 2,
   "id": "ab30d7e0",
   "metadata": {},
   "outputs": [
    {
     "name": "stderr",
     "output_type": "stream",
     "text": [
      "Using Spark's default log4j profile: org/apache/spark/log4j-defaults.properties\n",
      "Setting default log level to \"WARN\".\n",
      "To adjust logging level use sc.setLogLevel(newLevel). For SparkR, use setLogLevel(newLevel).\n",
      "22/10/14 11:54:41 WARN NativeCodeLoader: Unable to load native-hadoop library for your platform... using builtin-java classes where applicable\n",
      "22/10/14 11:54:47 WARN Utils: Service 'SparkUI' could not bind on port 4040. Attempting port 4041.\n"
     ]
    },
    {
     "data": {
      "text/html": [
       "\n",
       "            <div>\n",
       "                <p><b>SparkSession - in-memory</b></p>\n",
       "                \n",
       "        <div>\n",
       "            <p><b>SparkContext</b></p>\n",
       "\n",
       "            <p><a href=\"http://localhost:4041\">Spark UI</a></p>\n",
       "\n",
       "            <dl>\n",
       "              <dt>Version</dt>\n",
       "                <dd><code>v3.2.0</code></dd>\n",
       "              <dt>Master</dt>\n",
       "                <dd><code>local[*]</code></dd>\n",
       "              <dt>AppName</dt>\n",
       "                <dd><code>pyspark-shell</code></dd>\n",
       "            </dl>\n",
       "        </div>\n",
       "        \n",
       "            </div>\n",
       "        "
      ],
      "text/plain": [
       "<pyspark.sql.session.SparkSession at 0x106680220>"
      ]
     },
     "execution_count": 2,
     "metadata": {},
     "output_type": "execute_result"
    }
   ],
   "source": [
    "from pyspark.sql import SparkSession\n",
    "spark = SparkSession.builder.getOrCreate()\n",
    "spark"
   ]
  },
  {
   "cell_type": "markdown",
   "id": "ebaabc71",
   "metadata": {},
   "source": [
    "Dataset - **Average Temperature of Mumbai** - [Link](https://www.kaggle.com/code/imdevskp/indian-cities-temperature/data?select=Mumbai.csv)"
   ]
  },
  {
   "cell_type": "code",
   "execution_count": 3,
   "id": "4f7f63f2",
   "metadata": {},
   "outputs": [
    {
     "name": "stderr",
     "output_type": "stream",
     "text": [
      "                                                                                \r"
     ]
    }
   ],
   "source": [
    "temp_cities = spark.read.csv('../Mumbai.csv',sep=',',header=True)"
   ]
  },
  {
   "cell_type": "code",
   "execution_count": 4,
   "id": "eb84af67",
   "metadata": {},
   "outputs": [
    {
     "name": "stdout",
     "output_type": "stream",
     "text": [
      "+-----+---+----+-----------+\n",
      "|MONTH|DAY|YEAR|TEMPERATURE|\n",
      "+-----+---+----+-----------+\n",
      "|    1|  1|1995|       71.8|\n",
      "|    1|  2|1995|       72.0|\n",
      "|    1|  3|1995|       70.3|\n",
      "|    1|  4|1995|       69.7|\n",
      "|    1|  5|1995|       71.3|\n",
      "|    1|  6|1995|       73.9|\n",
      "|    1|  7|1995|       72.9|\n",
      "|    1|  8|1995|       70.2|\n",
      "|    1|  9|1995|       68.4|\n",
      "|    1| 10|1995|       68.0|\n",
      "|    1| 11|1995|       69.9|\n",
      "|    1| 12|1995|       69.8|\n",
      "|    1| 13|1995|       71.0|\n",
      "|    1| 14|1995|       73.9|\n",
      "|    1| 15|1995|       73.4|\n",
      "|    1| 16|1995|       70.4|\n",
      "|    1| 17|1995|       74.9|\n",
      "|    1| 18|1995|       74.5|\n",
      "|    1| 19|1995|       73.0|\n",
      "|    1| 20|1995|       71.9|\n",
      "+-----+---+----+-----------+\n",
      "only showing top 20 rows\n",
      "\n"
     ]
    }
   ],
   "source": [
    "temp_cities.show()"
   ]
  },
  {
   "cell_type": "markdown",
   "id": "27f401df",
   "metadata": {},
   "source": [
    "**UDF to convert Fahreneit to Celcius**"
   ]
  },
  {
   "cell_type": "code",
   "execution_count": 5,
   "id": "d7eef58c",
   "metadata": {},
   "outputs": [],
   "source": [
    "from pyspark.sql.functions import *\n",
    "@udf('double')\n",
    "def convert_fahrenheit_to_celsius(fahrenheit):\n",
    "    celsius = (fahrenheit - 32) * 5 / 9\n",
    "    return celsius"
   ]
  },
  {
   "cell_type": "code",
   "execution_count": 7,
   "id": "6ec59283",
   "metadata": {},
   "outputs": [
    {
     "data": {
      "text/plain": [
       "[('MONTH', 'string'),\n",
       " ('DAY', 'string'),\n",
       " ('YEAR', 'string'),\n",
       " ('TEMPERATURE', 'string')]"
      ]
     },
     "execution_count": 7,
     "metadata": {},
     "output_type": "execute_result"
    }
   ],
   "source": [
    "temp_cities.dtypes"
   ]
  },
  {
   "cell_type": "code",
   "execution_count": 8,
   "id": "6b478b6d",
   "metadata": {},
   "outputs": [
    {
     "name": "stderr",
     "output_type": "stream",
     "text": [
      "\r",
      "[Stage 2:>                                                          (0 + 1) / 1]\r"
     ]
    },
    {
     "name": "stdout",
     "output_type": "stream",
     "text": [
      "+-----+---+----+--------------------------+------------------------+\n",
      "|MONTH|DAY|YEAR|TEMPERATURE (In Fahreneit)|TEMPERATURE (In Celcius)|\n",
      "+-----+---+----+--------------------------+------------------------+\n",
      "|    1|  1|1995|                      71.8|                   22.11|\n",
      "|    1|  2|1995|                      72.0|                   22.22|\n",
      "|    1|  3|1995|                      70.3|                   21.28|\n",
      "|    1|  4|1995|                      69.7|                   20.94|\n",
      "|    1|  5|1995|                      71.3|                   21.83|\n",
      "|    1|  6|1995|                      73.9|                   23.28|\n",
      "|    1|  7|1995|                      72.9|                   22.72|\n",
      "|    1|  8|1995|                      70.2|                   21.22|\n",
      "|    1|  9|1995|                      68.4|                   20.22|\n",
      "|    1| 10|1995|                      68.0|                    20.0|\n",
      "|    1| 11|1995|                      69.9|                   21.06|\n",
      "|    1| 12|1995|                      69.8|                    21.0|\n",
      "|    1| 13|1995|                      71.0|                   21.67|\n",
      "|    1| 14|1995|                      73.9|                   23.28|\n",
      "|    1| 15|1995|                      73.4|                    23.0|\n",
      "|    1| 16|1995|                      70.4|                   21.33|\n",
      "|    1| 17|1995|                      74.9|                   23.83|\n",
      "|    1| 18|1995|                      74.5|                   23.61|\n",
      "|    1| 19|1995|                      73.0|                   22.78|\n",
      "|    1| 20|1995|                      71.9|                   22.17|\n",
      "+-----+---+----+--------------------------+------------------------+\n",
      "only showing top 20 rows\n",
      "\n"
     ]
    },
    {
     "name": "stderr",
     "output_type": "stream",
     "text": [
      "\r",
      "                                                                                \r"
     ]
    }
   ],
   "source": [
    "temp_cities_1=temp_cities.filter(col('TEMPERATURE')>0)\\\n",
    "                    .withColumn('MONTH',col('MONTH').cast('int')).withColumn('DAY',col('DAY').cast('int'))\\\n",
    "                    .withColumn('YEAR',col('YEAR').cast('int'))\\\n",
    "                    .withColumn('TEMPERATURE',col('TEMPERATURE').cast('double'))\\\n",
    "                    .withColumn('TEMPERATURE (In Celcius)',convert_fahrenheit_to_celsius(col('TEMPERATURE')))\\\n",
    "                    .withColumn('TEMPERATURE (In Celcius)',round(col(\"TEMPERATURE (In Celcius)\"),2))\\\n",
    "                .withColumnRenamed('TEMPERATURE','TEMPERATURE (In Fahreneit)')\n",
    "temp_cities_1.show()"
   ]
  },
  {
   "cell_type": "markdown",
   "id": "cf90257d",
   "metadata": {},
   "source": [
    "**What Year was Temprature High and Low in the city?**"
   ]
  },
  {
   "cell_type": "code",
   "execution_count": 9,
   "id": "f4cd2335",
   "metadata": {},
   "outputs": [
    {
     "name": "stderr",
     "output_type": "stream",
     "text": [
      "\r",
      "[Stage 3:>                                                          (0 + 1) / 1]\r"
     ]
    },
    {
     "name": "stdout",
     "output_type": "stream",
     "text": [
      "+-------+------------------------+\n",
      "|summary|TEMPERATURE (In Celcius)|\n",
      "+-------+------------------------+\n",
      "|  count|                    8960|\n",
      "|   mean|      27.833483258928542|\n",
      "| stddev|      2.1517285494135843|\n",
      "|    min|                   17.44|\n",
      "|    max|                   33.67|\n",
      "+-------+------------------------+\n",
      "\n"
     ]
    },
    {
     "name": "stderr",
     "output_type": "stream",
     "text": [
      "\r",
      "                                                                                \r"
     ]
    }
   ],
   "source": [
    "temp_cities_1.select('TEMPERATURE (In Celcius)').describe().show()"
   ]
  },
  {
   "cell_type": "code",
   "execution_count": 10,
   "id": "9b0160d9",
   "metadata": {},
   "outputs": [
    {
     "name": "stdout",
     "output_type": "stream",
     "text": [
      "+-----+---+----+--------------------------+------------------------+\n",
      "|MONTH|DAY|YEAR|TEMPERATURE (In Fahreneit)|TEMPERATURE (In Celcius)|\n",
      "+-----+---+----+--------------------------+------------------------+\n",
      "|    2|  7|2008|                      63.4|                   17.44|\n",
      "|    6| 10|2014|                      92.6|                   33.67|\n",
      "+-----+---+----+--------------------------+------------------------+\n",
      "\n"
     ]
    }
   ],
   "source": [
    "temp_cities_1.filter(col('TEMPERATURE (In Celcius)').isin(17.44,33.67)).show()"
   ]
  },
  {
   "cell_type": "markdown",
   "id": "91362acb",
   "metadata": {},
   "source": [
    "####  Find max and min temp temperature. Include records for only last day Of December every year"
   ]
  },
  {
   "cell_type": "code",
   "execution_count": 14,
   "id": "6e85c693",
   "metadata": {},
   "outputs": [
    {
     "name": "stdout",
     "output_type": "stream",
     "text": [
      "+-----+---+----+--------------------------+------------------------+\n",
      "|MONTH|DAY|YEAR|TEMPERATURE (In Fahreneit)|TEMPERATURE (In Celcius)|\n",
      "+-----+---+----+--------------------------+------------------------+\n",
      "|   12| 31|1995|                      75.9|                   24.39|\n",
      "|   12| 31|1996|                      78.3|                   25.72|\n",
      "|   12| 31|1997|                      78.4|                   25.78|\n",
      "|   12| 29|1998|                      78.1|                   25.61|\n",
      "|   12| 31|1999|                      79.6|                   26.44|\n",
      "|   12| 31|2000|                      69.5|                   20.83|\n",
      "|   12| 31|2001|                      79.2|                   26.22|\n",
      "|   12| 31|2002|                      68.7|                   20.39|\n",
      "|   12| 31|2003|                      70.5|                   21.39|\n",
      "|   12| 31|2004|                      75.4|                   24.11|\n",
      "|   12| 31|2005|                      76.7|                   24.83|\n",
      "|   12| 31|2006|                      76.0|                   24.44|\n",
      "|   12| 31|2007|                      75.2|                    24.0|\n",
      "|   12| 31|2008|                      73.8|                   23.22|\n",
      "|   12| 31|2009|                      76.8|                   24.89|\n",
      "|   12| 31|2010|                      72.9|                   22.72|\n",
      "|   12| 31|2011|                      76.5|                   24.72|\n",
      "|   12| 31|2012|                      78.0|                   25.56|\n",
      "|   12| 31|2013|                      76.0|                   24.44|\n",
      "|   12| 31|2014|                      74.4|                   23.56|\n",
      "|   12| 30|2015|                      82.7|                   28.17|\n",
      "|   12| 31|2016|                      79.7|                    26.5|\n",
      "|   12| 31|2017|                      77.7|                   25.39|\n",
      "|   12| 31|2018|                      77.6|                   25.33|\n",
      "|    8| 11|2019|                      83.2|                   28.44|\n",
      "+-----+---+----+--------------------------+------------------------+\n",
      "\n"
     ]
    }
   ],
   "source": [
    "from pyspark.sql.window import *\n",
    "w= Window().partitionBy(\"YEAR\").orderBy(col('MONTH').desc(),desc(col('DAY')))\n",
    "\n",
    "temp_cities_2=temp_cities_1.withColumn('rank',row_number().over(w))\\\n",
    "                    .filter(col('rank')==1)\\\n",
    "                    .drop('rank')\n",
    "temp_cities_2.show(30)"
   ]
  },
  {
   "cell_type": "code",
   "execution_count": 15,
   "id": "5d3f7681",
   "metadata": {},
   "outputs": [
    {
     "name": "stdout",
     "output_type": "stream",
     "text": [
      "+-----+---+----+--------------------------+------------------------+\n",
      "|MONTH|DAY|YEAR|TEMPERATURE (In Fahreneit)|TEMPERATURE (In Celcius)|\n",
      "+-----+---+----+--------------------------+------------------------+\n",
      "|   12| 31|2002|                      68.7|                   20.39|\n",
      "|    8| 11|2019|                      83.2|                   28.44|\n",
      "+-----+---+----+--------------------------+------------------------+\n",
      "\n"
     ]
    }
   ],
   "source": [
    "max_temp=temp_cities_2.agg({'TEMPERATURE (In Celcius)':'max'}).collect()[0][0]\n",
    "min_temp=temp_cities_2.agg({'TEMPERATURE (In Celcius)':'min'}).collect()[0][0]\n",
    "\n",
    "\n",
    "temp_cities_2.filter(col('TEMPERATURE (In Celcius)').isin(max_temp,min_temp)).show()"
   ]
  },
  {
   "cell_type": "code",
   "execution_count": null,
   "id": "f04487a7",
   "metadata": {},
   "outputs": [],
   "source": []
  }
 ],
 "metadata": {
  "kernelspec": {
   "display_name": "Python 3 (ipykernel)",
   "language": "python",
   "name": "python3"
  },
  "language_info": {
   "codemirror_mode": {
    "name": "ipython",
    "version": 3
   },
   "file_extension": ".py",
   "mimetype": "text/x-python",
   "name": "python",
   "nbconvert_exporter": "python",
   "pygments_lexer": "ipython3",
   "version": "3.10.7"
  }
 },
 "nbformat": 4,
 "nbformat_minor": 5
}
